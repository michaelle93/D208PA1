{
 "cells": [
  {
   "cell_type": "markdown",
   "metadata": {},
   "source": [
    "A1. Research question:\n",
    "What is the weekly average in seconds for outages a customer will experience? Can we predict the number of seconds for outages using following independent variables?"
   ]
  },
  {
   "cell_type": "markdown",
   "metadata": {},
   "source": [
    "A2. Objectives and goals:\n",
    "The object is to help the company identify which customers are experiencing higher outage times. The goal is for the company to use this data to reduce outage times for customers experiencing longer outage times. This will benefit the company by increasing customer satisfaction of less outages."
   ]
  },
  {
   "cell_type": "markdown",
   "metadata": {},
   "source": [
    "B1. \n",
    "The assumption for multiple regression is that there is a linear relationship between the outcome variable and the independent variables, (statisticssolutions, 2021). It assumes multivariate normality. It also assumes that independent variables are not highly correlated with each other, (statisticssolutions, 2021). "
   ]
  },
  {
   "cell_type": "markdown",
   "metadata": {},
   "source": [
    "B2.\n",
    "I will be using python which is a widely used by many and is powerful when packages are applied. It is simplistic and easy to use. "
   ]
  },
  {
   "cell_type": "markdown",
   "metadata": {},
   "source": [
    "B3.\n",
    "The target variable is continuous variable and because of that multiple regression is the appropriate technique to analyze. Also there could be a possiblity that multiple variables are used to predict the target variable."
   ]
  },
  {
   "cell_type": "markdown",
   "metadata": {},
   "source": [
    "C1.\n",
    "-scale numeric features \n",
    "-turn qualitative features into numeric features that can be used in the regression\n",
    "-remove missing data\n",
    "-removing irrelevent features\n"
   ]
  },
  {
   "cell_type": "markdown",
   "metadata": {},
   "source": [
    "C2.\n",
    "will discuss after performing summary statistics\n",
    "convert variables to numerical\n",
    "convert binary variables to 1/0\n",
    "drop irrelevent variables\n"
   ]
  },
  {
   "cell_type": "markdown",
   "metadata": {},
   "source": [
    "C3.\n",
    "import dataset into dataframe\n",
    "check variables for any corrections need such as improper naming and title\n",
    "check data type\n",
    "drop less meaningful variables\n",
    "check for outliers and impute missing data\n",
    "run summary statistics\n",
    "create dummy variables for categorical variables to numerical values\n",
    "look over univariate and bivariate visualizaitons\n",
    "move target variable to the end of dataframe\n",
    "set prepared dataset into a new dataframe for running regression"
   ]
  },
  {
   "cell_type": "code",
   "execution_count": null,
   "metadata": {},
   "outputs": [],
   "source": []
  },
  {
   "cell_type": "markdown",
   "metadata": {},
   "source": [
    "import libraries"
   ]
  },
  {
   "cell_type": "markdown",
   "metadata": {},
   "source": [
    "import dataset"
   ]
  },
  {
   "cell_type": "markdown",
   "metadata": {},
   "source": [
    "define x and y"
   ]
  },
  {
   "cell_type": "markdown",
   "metadata": {},
   "source": [
    "split the dataset in training set and test set"
   ]
  },
  {
   "cell_type": "markdown",
   "metadata": {},
   "source": [
    "predict the test set result"
   ]
  },
  {
   "cell_type": "markdown",
   "metadata": {},
   "source": [
    "evaluate teh model"
   ]
  },
  {
   "cell_type": "markdown",
   "metadata": {},
   "source": [
    "plot the results"
   ]
  },
  {
   "cell_type": "markdown",
   "metadata": {},
   "source": [
    "predict the values"
   ]
  }
 ],
 "metadata": {
  "kernelspec": {
   "display_name": "Python 3",
   "language": "python",
   "name": "python3"
  },
  "language_info": {
   "codemirror_mode": {
    "name": "ipython",
    "version": 3
   },
   "file_extension": ".py",
   "mimetype": "text/x-python",
   "name": "python",
   "nbconvert_exporter": "python",
   "pygments_lexer": "ipython3",
   "version": "3.8.5"
  }
 },
 "nbformat": 4,
 "nbformat_minor": 4
}
